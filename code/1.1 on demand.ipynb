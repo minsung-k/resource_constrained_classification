{
 "cells": [
  {
   "cell_type": "code",
   "execution_count": 1,
   "metadata": {},
   "outputs": [],
   "source": [
    "import function as fu"
   ]
  },
  {
   "cell_type": "code",
   "execution_count": null,
   "metadata": {},
   "outputs": [],
   "source": [
    "%%time\n",
    "p_list = [2,4,6,8,10]\n",
    "for N1,N2 in [[20,50], [80,120], [150,180]]:\n",
    "    \n",
    "    for i in p_list:\n",
    "        for (c_01,hardness) in zip([2.3, 3.6], ['easy','mid']):\n",
    "            fu.algorithm(c_01,hardness,i, times = 20, print_per_num = 30, total_run = 30, N1=N1,N2=N2)"
   ]
  },
  {
   "cell_type": "code",
   "execution_count": 3,
   "metadata": {},
   "outputs": [
    {
     "name": "stderr",
     "output_type": "stream",
     "text": [
      "2023-04-19 19:17:40.138809: W tensorflow/stream_executor/platform/default/dso_loader.cc:64] Could not load dynamic library 'libcuda.so.1'; dlerror: libcuda.so.1: cannot open shared object file: No such file or directory\n",
      "2023-04-19 19:17:40.138856: W tensorflow/stream_executor/cuda/cuda_driver.cc:269] failed call to cuInit: UNKNOWN ERROR (303)\n",
      "2023-04-19 19:17:40.138884: I tensorflow/stream_executor/cuda/cuda_diagnostics.cc:156] kernel driver does not appear to be running on this host (c0711a-s13.ufhpc): /proc/driver/nvidia/version does not exist\n",
      "2023-04-19 19:17:40.139097: I tensorflow/core/platform/cpu_feature_guard.cc:151] This TensorFlow binary is optimized with oneAPI Deep Neural Network Library (oneDNN) to use the following CPU instructions in performance-critical operations:  SSE4.1 SSE4.2 AVX AVX2 FMA\n",
      "To enable them in other operations, rebuild TensorFlow with the appropriate compiler flags.\n"
     ]
    },
    {
     "name": "stdout",
     "output_type": "stream",
     "text": [
      "CPU times: user 18h 34min 32s, sys: 1h 12min 22s, total: 19h 46min 54s\n",
      "Wall time: 14h 10min 37s\n"
     ]
    }
   ],
   "source": [
    "%%time\n",
    "p_list = [2,4,6,8,10]\n",
    "for i in p_list:\n",
    "    for (c_01,hardness) in zip([2.3, 3.6], ['easy','mid']):\n",
    "        fu.algorithm(c_01,hardness,i, times = 20, print_per_num = 30, total_run = 30, N1=90,N2=110)"
   ]
  },
  {
   "cell_type": "code",
   "execution_count": null,
   "metadata": {},
   "outputs": [],
   "source": [
    "%%time\n",
    "p_list = [2,4,6,8,10]\n",
    "for i in p_list:\n",
    "    for (c_01,hardness) in zip([2.3, 3.6], ['easy','mid']):\n",
    "        fu.algorithm(c_01,hardness,i, times = 20, print_per_num = 30, total_run = 30, N1=10,N2=80)\n",
    "        fu.algorithm(c_01,hardness,i, times = 20, print_per_num = 30, total_run = 30, N1=80,N2=140)"
   ]
  },
  {
   "cell_type": "code",
   "execution_count": null,
   "metadata": {},
   "outputs": [],
   "source": [
    "%%time\n",
    "p_list = [2,4,6,8,10]\n",
    "\n",
    "for (c_01,hardness) in zip([2.3, 3.6], ['easy','mid']):\n",
    "    for i in p_list:\n",
    "        fu.algorithm(c_01,hardness,i, times = 20, print_per_num = 30, total_run = 30, N1=60,N2=110)\n",
    "        "
   ]
  },
  {
   "cell_type": "code",
   "execution_count": null,
   "metadata": {},
   "outputs": [],
   "source": [
    "%%time\n",
    "for (c_01,hardness) in zip([2.3, 3.6], ['easy','mid']):\n",
    "    for i in p_list:\n",
    "        fu.algorithm(c_01,hardness,i, times = 20, print_per_num = 30, total_run = 30, N1=70,N2=100)"
   ]
  },
  {
   "cell_type": "code",
   "execution_count": null,
   "metadata": {},
   "outputs": [],
   "source": [
    "%%time\n",
    "for (c_01,hardness) in zip([2.3, 3.6], ['easy','mid']):\n",
    "    for i in p_list:\n",
    "        fu.algorithm(c_01,hardness,i, times = 20, print_per_num = 30, total_run = 30, N1=100,N2=120)"
   ]
  },
  {
   "cell_type": "code",
   "execution_count": null,
   "metadata": {},
   "outputs": [],
   "source": [
    "%%time\n",
    "for (c_01,hardness) in zip([2.3, 3.6], ['easy','mid']):\n",
    "    for i in p_list:\n",
    "        fu.algorithm(c_01,hardness,i, times = 20, print_per_num = 30, total_run = 30, N1=110,N2=130)"
   ]
  }
 ],
 "metadata": {
  "kernelspec": {
   "display_name": "Tensorflow-2.7.0",
   "language": "python",
   "name": "tensorflow-2.7.0"
  },
  "language_info": {
   "codemirror_mode": {
    "name": "ipython",
    "version": 3
   },
   "file_extension": ".py",
   "mimetype": "text/x-python",
   "name": "python",
   "nbconvert_exporter": "python",
   "pygments_lexer": "ipython3",
   "version": "3.9.12"
  }
 },
 "nbformat": 4,
 "nbformat_minor": 4
}
