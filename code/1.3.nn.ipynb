{
 "cells": [
  {
   "cell_type": "code",
   "execution_count": 1,
   "metadata": {},
   "outputs": [],
   "source": [
    "import function as fu\n",
    "import pandas as pd"
   ]
  },
  {
   "cell_type": "code",
   "execution_count": 2,
   "metadata": {},
   "outputs": [
    {
     "name": "stderr",
     "output_type": "stream",
     "text": [
      "2023-05-08 21:15:51.077302: W tensorflow/stream_executor/platform/default/dso_loader.cc:64] Could not load dynamic library 'libcuda.so.1'; dlerror: libcuda.so.1: cannot open shared object file: No such file or directory\n",
      "2023-05-08 21:15:51.077347: W tensorflow/stream_executor/cuda/cuda_driver.cc:269] failed call to cuInit: UNKNOWN ERROR (303)\n",
      "2023-05-08 21:15:51.077374: I tensorflow/stream_executor/cuda/cuda_diagnostics.cc:156] kernel driver does not appear to be running on this host (c0710a-s2.ufhpc): /proc/driver/nvidia/version does not exist\n",
      "2023-05-08 21:15:51.077616: I tensorflow/core/platform/cpu_feature_guard.cc:151] This TensorFlow binary is optimized with oneAPI Deep Neural Network Library (oneDNN) to use the following CPU instructions in performance-critical operations:  SSE4.1 SSE4.2 AVX AVX2 FMA\n",
      "To enable them in other operations, rebuild TensorFlow with the appropriate compiler flags.\n"
     ]
    }
   ],
   "source": [
    "#comb = [(0,10),(10,80),(20,50),(60,120),(80,100),(100,120),(95,105),(90,110),(70,130),(50,150),(80,140),(150,180),(190,200),(120,190)]\n",
    "comb = [[10,80], [20,50], [60,110], [70,100], [80,120], [80,140], [90,110], [100,120], [110,130], [150,180]]\n",
    "for (c_01,hardness) in zip([2.3, 3.6], ['easy','mid']):\n",
    "    for N1,N2 in comb:\n",
    "        list_con_mat = []\n",
    "        list_cost = []\n",
    "        list_number = []\n",
    "        list_precision = []\n",
    "        list_recall = []\n",
    "        list_f1 = []\n",
    "        list_auc = []\n",
    "        list_mcc = []\n",
    "        list_gmean = []\n",
    "\n",
    "        con_mat,cost, number, precision, recall, f1, auc,mcc, gmean = fu.algorithm_nn(c_01,hardness, N1,N2)\n",
    "        #print(f'initial_p:{p},cost:{cost},precision:{precision},recall:{recall},f1:{f1}')\n",
    "        list_cost.append(cost)\n",
    "        list_number.append(number)\n",
    "        list_precision.append(precision)\n",
    "        list_recall.append(recall)\n",
    "        list_f1.append(f1)\n",
    "        list_con_mat.append(con_mat)\n",
    "        list_auc.append(auc)\n",
    "        list_mcc.append(mcc)\n",
    "        list_gmean.append(gmean)\n",
    "\n",
    "\n",
    "        dict = {'num1':list_number, 'con_mat':list_con_mat, 'cost': list_cost, 'list_precision':list_precision, 'list_recall':list_recall, 'list_f1':list_f1,\n",
    "               'list_auc': list_auc, 'list_mcc': list_mcc, 'list_gmean': list_gmean}    \n",
    "        df = pd.DataFrame(dict) \n",
    "        method = 'nn'\n",
    "        # saving the dataframe \n",
    "        df.to_csv('result/case0/result_{}_{}_{}_{}.csv'.format(method,hardness,N1,N2))"
   ]
  },
  {
   "cell_type": "code",
   "execution_count": null,
   "metadata": {},
   "outputs": [],
   "source": []
  }
 ],
 "metadata": {
  "kernelspec": {
   "display_name": "Tensorflow-2.7.0",
   "language": "python",
   "name": "tensorflow-2.7.0"
  },
  "language_info": {
   "codemirror_mode": {
    "name": "ipython",
    "version": 3
   },
   "file_extension": ".py",
   "mimetype": "text/x-python",
   "name": "python",
   "nbconvert_exporter": "python",
   "pygments_lexer": "ipython3",
   "version": "3.9.12"
  }
 },
 "nbformat": 4,
 "nbformat_minor": 4
}
