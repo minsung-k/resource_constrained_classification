{
 "cells": [
  {
   "cell_type": "code",
   "execution_count": null,
   "id": "7760a9e7-2fda-4780-8721-ade43442e266",
   "metadata": {},
   "outputs": [],
   "source": [
    "import function as fu"
   ]
  },
  {
   "cell_type": "code",
   "execution_count": 3,
   "id": "44f6cf41-b311-4b9b-8b29-32d75fa5049a",
   "metadata": {
    "tags": []
   },
   "outputs": [
    {
     "name": "stderr",
     "output_type": "stream",
     "text": [
      "2023-08-30 11:54:18.927376: W tensorflow/stream_executor/platform/default/dso_loader.cc:64] Could not load dynamic library 'libcuda.so.1'; dlerror: libcuda.so.1: cannot open shared object file: No such file or directory\n",
      "2023-08-30 11:54:18.927409: W tensorflow/stream_executor/cuda/cuda_driver.cc:269] failed call to cuInit: UNKNOWN ERROR (303)\n",
      "2023-08-30 11:54:18.927428: I tensorflow/stream_executor/cuda/cuda_diagnostics.cc:156] kernel driver does not appear to be running on this host (c0712a-s9.ufhpc): /proc/driver/nvidia/version does not exist\n",
      "2023-08-30 11:54:18.927603: I tensorflow/core/platform/cpu_feature_guard.cc:151] This TensorFlow binary is optimized with oneAPI Deep Neural Network Library (oneDNN) to use the following CPU instructions in performance-critical operations:  SSE4.1 SSE4.2 AVX AVX2 FMA\n",
      "To enable them in other operations, rebuild TensorFlow with the appropriate compiler flags.\n"
     ]
    }
   ],
   "source": [
    "# Run CS\n",
    "c_01 = 5\n",
    "comb =[(0.1,0.2), (0.1, 0.8), (0.2, 0.5) , (0.6 , 1.1),  (0.7 ,1.0) ,(0.8 ,1.4) ,( 0.9 ,1.1), (1.1, 1.3) ,(1.5 ,1.8)]\n",
    "\n",
    "for N1_ratio,N2_ratio in comb:\n",
    "    for dataset in ['synthetic','churn', 'credit']: fu.algorithm_cs(c_01, dataset, N1_ratio = N1_ratio,N2_ratio = N2_ratio)"
   ]
  },
  {
   "cell_type": "code",
   "execution_count": 4,
   "id": "668e943f-4803-489b-a47d-3b9b4c3b3382",
   "metadata": {
    "tags": []
   },
   "outputs": [],
   "source": [
    "# Run NN\n",
    "comb =[(0.1,0.2),(0.1, 0.8), (0.2, 0.5) , (0.6 , 1.1),  (0.7 ,1.0) ,(0.8 ,1.4) ,( 0.9 ,1.1), (1.1, 1.3) ,(1.5 ,1.8)]\n",
    "\n",
    "for N1_ratio,N2_ratio in comb:\n",
    "    for dataset in ['synthetic','churn', 'credit']: fu.algorithm_nn(c_01,dataset, N1_ratio = N1_ratio,N2_ratio = N2_ratio)"
   ]
  },
  {
   "cell_type": "code",
   "execution_count": null,
   "id": "49ff3559-7fbc-4e89-9ea3-561cfcff5670",
   "metadata": {},
   "outputs": [],
   "source": [
    "# Run SPO\n",
    "comb =[(0.1, 0.2), (0.1, 0.8), (0.2, 0.5) , (0.6 , 1.1),  (0.7 ,1.0) ,(0.8 ,1.4) ,( 0.9 ,1.1), (1.1, 1.3) ,(1.5 ,1.8)]\n",
    "\n",
    "for N1_ratio,N2_ratio in comb:\n",
    "    for dataset in ['synthetic', 'churn', 'credit']: algorithm_spo(c_01, dataset, N1_ratio,N2_ratio)"
   ]
  }
 ],
 "metadata": {
  "kernelspec": {
   "display_name": "Tensorflow-2.7.0",
   "language": "python",
   "name": "tensorflow-2.7.0"
  },
  "language_info": {
   "codemirror_mode": {
    "name": "ipython",
    "version": 3
   },
   "file_extension": ".py",
   "mimetype": "text/x-python",
   "name": "python",
   "nbconvert_exporter": "python",
   "pygments_lexer": "ipython3",
   "version": "3.9.12"
  }
 },
 "nbformat": 4,
 "nbformat_minor": 5
}
